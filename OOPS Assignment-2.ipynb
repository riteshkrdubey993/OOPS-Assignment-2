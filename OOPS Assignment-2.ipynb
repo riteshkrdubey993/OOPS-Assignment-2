{
 "cells": [
  {
   "cell_type": "markdown",
   "id": "fafcac69-1ef7-462d-970c-e9b849a6c99d",
   "metadata": {},
   "source": [
    "# Q1. What is Abstraction in OOps? Explain with an example."
   ]
  },
  {
   "cell_type": "markdown",
   "id": "43c67d95-d5fb-42d0-800b-063bdabbbafc",
   "metadata": {},
   "source": [
    "Abstraction is one of the four pillars of Object-Oriented Programming (OOP), and it involves simplifying complex systems by modeling classes based on the essential properties and behaviors they share. Abstraction allows the creation of abstract classes and interfaces that define a clear and well-defined interface for a set of related classes, hiding the implementation details from the user."
   ]
  },
  {
   "cell_type": "code",
   "execution_count": 3,
   "id": "cdd7f4d0-d211-4317-8ba8-bdc89869707b",
   "metadata": {},
   "outputs": [
    {
     "name": "stdout",
     "output_type": "stream",
     "text": [
      "This is student subject details\n"
     ]
    }
   ],
   "source": [
    "import abc\n",
    "class engineering_branch:\n",
    "    \n",
    "    @abc.abstractmethod\n",
    "    def student_assignment(self):\n",
    "        pass\n",
    "    \n",
    "    @abc.abstractmethod\n",
    "    def student_details(self):\n",
    "        pass\n",
    "    \n",
    "    @abc.abstractmethod\n",
    "    def student_subject(self):\n",
    "        pass\n",
    "    \n",
    "class electrical(engineering_branch):\n",
    "    def student_assignment(self):\n",
    "        print('This is student details')\n",
    "    \n",
    "    def student_subject(self):\n",
    "        print('This is student subject details')\n",
    "        \n",
    "\n",
    "class cse(engineering_branch):\n",
    "     def student_assignment(self):\n",
    "        print('This is student details')\n",
    "    \n",
    "     def student_subject(self):\n",
    "        print('This is student subject details')\n",
    "        \n",
    "        \n",
    "student = cse()\n",
    "student.student_subject()"
   ]
  },
  {
   "cell_type": "markdown",
   "id": "9048e75a-a964-4021-a82d-cdddd443a02b",
   "metadata": {},
   "source": [
    "# Q2. Differentiate between Abstraction and Encapsulation. Explain with an example."
   ]
  },
  {
   "cell_type": "markdown",
   "id": "5bd247a0-6fde-4855-94ef-f3a3c0ca2514",
   "metadata": {},
   "source": [
    "Abstraction: Abstraction is the process of simplifying complex systems by modeling classes based on their essential properties and behaviors, while hiding unnecessary details. Abstraction allows developers to focus on what an object does rather than how it achieves its functionality. It creates a clear and well-defined interface for a set of related classes."
   ]
  },
  {
   "cell_type": "code",
   "execution_count": 6,
   "id": "a7760d8b-9a4e-4de4-ab92-f2e3d175575f",
   "metadata": {},
   "outputs": [
    {
     "name": "stdout",
     "output_type": "stream",
     "text": [
      "Color of mango could be green or orange or it could be any colour in between green and orange based on the varity of mango.\n",
      "Orange taste dependes on its time, it could be sweet or sour.\n"
     ]
    }
   ],
   "source": [
    "import abc\n",
    "\n",
    "# Abstract class representing a color\n",
    "class fruits:\n",
    "    \n",
    "    @abstractmethod\n",
    "    def color(self):\n",
    "        pass\n",
    "    \n",
    "    @abstractmethod\n",
    "    def taste(self):\n",
    "        pass\n",
    "    \n",
    "class mango(fruits):\n",
    "    def color(self):\n",
    "        print('Color of mango could be green or orange or it could be any colour in between green and orange based on the varity of mango.')\n",
    "        \n",
    "    def taste(self):\n",
    "        print(\"Mango's taste dependes on its time, it could be sweet or sour.\")\n",
    "        \n",
    "class orange(fruits):\n",
    "    def color(self):\n",
    "        print('Color of orange could be green or orange or it could green or orange.')\n",
    "        \n",
    "    def taste(self):\n",
    "        print(\"Orange taste dependes on its time, it could be sweet or sour.\")\n",
    "        \n",
    "# Creating an instance of the concrete class\n",
    "my_fruit = mango()\n",
    "my_fruit.color()\n",
    "orange =orange()\n",
    "orange.taste()"
   ]
  },
  {
   "cell_type": "markdown",
   "id": "faa35596-3031-47b6-8e97-1ef2e5a1b875",
   "metadata": {},
   "source": [
    "Encapsulation: Encapsulation is the bundling of data (attributes) and the methods (functions) that operate on the data into a single unit known as a class. It restricts direct access to some of the object's components. Encapsulation helps in data hiding, reducing complexity, and promoting modular design. It encapsulates the internal state of an object and allows controlled access to it."
   ]
  },
  {
   "cell_type": "code",
   "execution_count": 24,
   "id": "85dc0b06-72a1-4aa5-8352-d92a4027621c",
   "metadata": {},
   "outputs": [],
   "source": [
    "class BankAccount:\n",
    "    def __init__(self, account_no, balance, loan):\n",
    "        \n",
    "        self.account_no =  account_no\n",
    "        self.loan = loan\n",
    "        self.balance = balance - loan\n",
    "        \n",
    "    def deposit(self, amount):\n",
    "        self.balance = self.balance - self.loan + amount\n",
    "        \n",
    "    def withdraw(self, withdraw):\n",
    "        if self.balance >= withdraw:\n",
    "            self.balance = self.balance - withdraw\n",
    "            return print(f'Your account is debited by: {withdraw}')\n",
    "        \n",
    "        else:\n",
    "            return print('Balance is insufficient')\n",
    "        \n",
    "    def get_balance(self):\n",
    "        return self._balance\n",
    "    \n",
    "# Creating an instance of the BankAccount class\n",
    "account = BankAccount(account_no=\"12345\", balance=1000, loan = 500)"
   ]
  },
  {
   "cell_type": "code",
   "execution_count": 25,
   "id": "6022edd0-3e5d-4ab7-904a-927c6c7aa354",
   "metadata": {},
   "outputs": [
    {
     "name": "stdout",
     "output_type": "stream",
     "text": [
      "Your account is debited by: 400\n"
     ]
    }
   ],
   "source": [
    "account.withdraw(400)"
   ]
  },
  {
   "cell_type": "markdown",
   "id": "dd4c3b88-14f8-4642-93a6-7e088b17ccb8",
   "metadata": {},
   "source": [
    "In this example, BankAccount encapsulates the attributes _account_no and _balance. These attributes are marked as private (by convention, using a single leading underscore), and their access is controlled through methods (deposit, withdraw, get_balance). This encapsulation hides the internal state and ensures that it can be modified in a controlled manner."
   ]
  },
  {
   "cell_type": "markdown",
   "id": "858183c3-d7cd-4141-b2cc-3374f76f56a4",
   "metadata": {},
   "source": [
    "# Q3. What is abc module in python? Why is it used?"
   ]
  },
  {
   "cell_type": "markdown",
   "id": "e8214a18-41ee-408a-8d38-8de829902097",
   "metadata": {},
   "source": [
    "The abc module in Python stands for \"Abstract Base Classes,\" and it provides a way to define abstract classes and abstract methods. Abstract classes are classes that cannot be instantiated and are meant to be subclassed by concrete classes. Abstract methods are methods declared in an abstract class but have no implementation. Subclasses are required to provide implementations for these abstract methods.\n",
    "\n",
    "## Key Components of the abc Module:\n",
    "\n",
    "1. ABC (Abstract Base Class):The ABC class is a metaclass that can be used as a base class for creating abstract classes. By inheriting from ABC, a class becomes capable of defining abstract methods.\n",
    "2. abstractmethod Decorator: The abstractmethod decorator is used to declare abstract methods within an abstract class. Abstract methods are methods that do not have an implementation in the abstract class.\n",
    "\n",
    "## Why is abc Used?\n",
    "\n",
    "1. Define Abstract Classes: The abc module allows the definition of abstract classes, which serve as a blueprint for other classes. Abstract classes cannot be instantiated directly, but they can be subclassed.\n",
    "2. Enforce Method Implementation: Abstract methods, declared using the abstractmethod decorator, must be implemented by concrete (sub)classes. This helps enforce a specific interface and ensures that certain methods are implemented in derived classes.\n",
    "3. Provide a Common Interface: Abstract base classes provide a way to define a common interface that multiple classes can adhere to. This is especially useful in scenarios where you want to ensure that different classes implement certain methods with consistent signatures."
   ]
  },
  {
   "cell_type": "code",
   "execution_count": 8,
   "id": "737d886c-a705-4170-82a0-ae285e823cca",
   "metadata": {},
   "outputs": [
    {
     "name": "stdout",
     "output_type": "stream",
     "text": [
      "Color of mango could be green or orange or it could be any colour in between green and orange based on the varity of mango.\n",
      "Orange taste dependes on its time, it could be sweet or sour.\n"
     ]
    }
   ],
   "source": [
    "import abc\n",
    "\n",
    "# Abstract class representing a color\n",
    "class fruits:\n",
    "    \n",
    "    @abstractmethod\n",
    "    def color(self):\n",
    "        pass\n",
    "    \n",
    "    @abstractmethod\n",
    "    def taste(self):\n",
    "        pass\n",
    "    \n",
    "class mango(fruits):\n",
    "    def color(self):\n",
    "        print('Color of mango could be green or orange or it could be any colour in between green and orange based on the varity of mango.')\n",
    "        \n",
    "    def taste(self):\n",
    "        print(\"Mango's taste dependes on its time, it could be sweet or sour.\")\n",
    "        \n",
    "class orange(fruits):\n",
    "    def color(self):\n",
    "        print('Color of orange could be green or orange or it could green or orange.')\n",
    "        \n",
    "    def taste(self):\n",
    "        print(\"Orange taste dependes on its time, it could be sweet or sour.\")\n",
    "        \n",
    "# Creating an instance of the concrete class\n",
    "my_fruit = mango()\n",
    "my_fruit.color()\n",
    "orange =orange()\n",
    "orange.taste()"
   ]
  },
  {
   "cell_type": "markdown",
   "id": "67019490-73a4-4cdd-9f7c-b6924060441d",
   "metadata": {},
   "source": [
    "# Q4. How can we achieve data abstraction?"
   ]
  },
  {
   "cell_type": "markdown",
   "id": "f6b1f8a2-2069-4d60-aab8-54a7b3d16714",
   "metadata": {},
   "source": [
    "Data abstraction in programming is achieved by creating abstract data types and encapsulating the implementation details of those types. This involves hiding the internal complexities of the data and exposing only the essential features or functionalities to the user. In object-oriented programming, this is often done using classes and objects. Here's how data abstraction can be achieved:\n",
    "\n",
    "1. Use Classes and Objects: Define a class to represent the abstract data type, and create objects of that class to work with instances of the data type.\n",
    "2. Encapsulation: Use encapsulation to hide the internal details of the data type. Encapsulation involves bundling the data (attributes) and the methods (functions) that operate on the data into a single unit (class).\n",
    "3. Hide Implementation Details: Provide a clear and well-defined interface to the user while hiding the implementation details. Users should not be concerned with how the data type is implemented internally; they only need to know how to use it.\n",
    "4. Abstract Methods (Optional): If appropriate, you can use abstract methods to declare methods in an abstract base class that must be implemented by concrete classes. This enforces a common interface for different implementations."
   ]
  },
  {
   "cell_type": "markdown",
   "id": "dff9ff9d-d21f-430f-ba68-0378bac2c90d",
   "metadata": {},
   "source": [
    "# Q5. Can we create an instance of an abstract class? Explain your answer."
   ]
  },
  {
   "cell_type": "markdown",
   "id": "6edf2ae7-7601-4cc7-aa4f-a5e8b60374d5",
   "metadata": {},
   "source": [
    "No, we cannot create an instance of an abstract class in Python. Abstract classes are meant to serve as blueprints for other classes and cannot be instantiated directly. The purpose of abstract classes is to define a common interface and enforce that subclasses provide implementations for specific methods.\n",
    "\n",
    "In Python, abstract classes are created using the ABC (Abstract Base Class) module, and abstract methods within those classes are marked with the abstractmethod decorator. An abstract class can have both abstract methods (with no implementation) and concrete methods"
   ]
  },
  {
   "cell_type": "code",
   "execution_count": 9,
   "id": "24ed491c-f6ee-4226-a0a3-93a04812a4da",
   "metadata": {},
   "outputs": [
    {
     "name": "stdout",
     "output_type": "stream",
     "text": [
      "Error: Can't instantiate abstract class Shape with abstract method area\n"
     ]
    }
   ],
   "source": [
    "from abc import ABC, abstractmethod\n",
    "\n",
    "# Abstract class with an abstract method\n",
    "class Shape(ABC):\n",
    "    @abstractmethod\n",
    "    def area(self):\n",
    "        pass\n",
    "\n",
    "    def display(self):\n",
    "        print(\"Displaying the shape.\")\n",
    "\n",
    "# Concrete class inheriting from the abstract class\n",
    "class Circle(Shape):\n",
    "    def __init__(self, radius):\n",
    "        self.radius = radius\n",
    "\n",
    "    # Concrete implementation of the abstract method\n",
    "    def area(self):\n",
    "        return 3.14 * self.radius * self.radius\n",
    "\n",
    "# Attempting to create an instance of the abstract class\n",
    "# This will raise a TypeError\n",
    "try:\n",
    "    shape = Shape()  # This line will raise an error\n",
    "except TypeError as e:\n",
    "    print(f\"Error: {e}\")\n"
   ]
  }
 ],
 "metadata": {
  "kernelspec": {
   "display_name": "Python 3 (ipykernel)",
   "language": "python",
   "name": "python3"
  },
  "language_info": {
   "codemirror_mode": {
    "name": "ipython",
    "version": 3
   },
   "file_extension": ".py",
   "mimetype": "text/x-python",
   "name": "python",
   "nbconvert_exporter": "python",
   "pygments_lexer": "ipython3",
   "version": "3.10.8"
  }
 },
 "nbformat": 4,
 "nbformat_minor": 5
}
